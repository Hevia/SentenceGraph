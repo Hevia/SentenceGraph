{
 "cells": [
  {
   "cell_type": "markdown",
   "metadata": {},
   "source": [
    "# core\n",
    "\n",
    "> Fill in a module description here"
   ]
  },
  {
   "cell_type": "code",
   "execution_count": null,
   "metadata": {},
   "outputs": [],
   "source": [
    "#| default_exp core"
   ]
  },
  {
   "cell_type": "code",
   "execution_count": null,
   "metadata": {},
   "outputs": [],
   "source": [
    "#| hide\n",
    "from nbdev.showdoc import *\n",
    "from sentence_transformers import SentenceTransformer\n",
    "from sentence_transformers.util import cos_sim\n",
    "from typing import List\n",
    "from enum import Enum"
   ]
  },
  {
   "cell_type": "code",
   "execution_count": null,
   "metadata": {},
   "outputs": [],
   "source": [
    "#| export\n",
    "class Format(Enum):\n",
    "  Python = 0\n",
    "  Torch = 1\n",
    "  Numpy = 2\n",
    "  Pandas = 3"
   ]
  },
  {
   "cell_type": "code",
   "execution_count": null,
   "metadata": {},
   "outputs": [],
   "source": [
    "#| export\n",
    "class SentenceGraph:\n",
    "    def __init__(self, model_name: str = None, model: None = None):\n",
    "        if model_name == None or model_name == \"\" or model == None:\n",
    "            self.model = model = SentenceTransformer('all-MiniLM-L6-v2')\n",
    "        elif model is not None:\n",
    "            self.model = model\n",
    "        elif model_name is not None:\n",
    "          self.model = model = SentenceTransformer(model_name)\n",
    "\n",
    "    def createGraph(self, sentences: List[str], format: Format = Format.Python) -> List[List[float]]:\n",
    "        # TODO: Wrap this all in a function to export a functional version of this as well.\n",
    "        sentence_embeddings = self.model.encode(sentences)\n",
    "\n",
    "        graph_len = len(sentence_embeddings)\n",
    "        similarity_graph = [[0 for x in range(graph_len)] for y in range(graph_len)]\n",
    "\n",
    "        for i, embeddingA in enumerate(sentence_embeddings):\n",
    "          for j, embeddingB in enumerate(sentence_embeddings):\n",
    "            similarity = cos_sim(embeddingA, embeddingB)\n",
    "\n",
    "            # TODO when we get to python 3.10+ switch to pattern matching\n",
    "            if format == Format.Python:\n",
    "              similarity = similarity.tolist()[0][0]\n",
    "            elif format == Format.Torch:\n",
    "              similarity = similarity[0]\n",
    "            elif format == Format.Pandas:\n",
    "              # TODO: Implement eventual conversion to a dataframe\n",
    "              similarity = similarity.tolist()[0][0]\n",
    "            elif format == Format.Numpy:\n",
    "              similarity = similarity[0].numpy()\n",
    "\n",
    "            similarity_graph[i][j] = similarity\n",
    "          \n",
    "        return similarity_graph"
   ]
  },
  {
   "cell_type": "code",
   "execution_count": null,
   "metadata": {},
   "outputs": [],
   "source": [
    "#| hide\n",
    "import nbdev; nbdev.nbdev_export()"
   ]
  }
 ],
 "metadata": {
  "kernelspec": {
   "display_name": "Python 3.8.15 ('venv': venv)",
   "language": "python",
   "name": "python3"
  }
 },
 "nbformat": 4,
 "nbformat_minor": 4
}
