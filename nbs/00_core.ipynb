{
 "cells": [
  {
   "attachments": {},
   "cell_type": "markdown",
   "metadata": {},
   "source": [
    "# core\n",
    "\n",
    "> The core classes and functionality for SentenceGraph"
   ]
  },
  {
   "cell_type": "code",
   "execution_count": null,
   "metadata": {},
   "outputs": [],
   "source": [
    "#| default_exp core"
   ]
  },
  {
   "cell_type": "code",
   "execution_count": null,
   "metadata": {},
   "outputs": [],
   "source": [
    "#| hide\n",
    "from nbdev.showdoc import *"
   ]
  },
  {
   "cell_type": "code",
   "execution_count": 2,
   "metadata": {},
   "outputs": [],
   "source": [
    "#|export\n",
    "from sentence_transformers import SentenceTransformer\n",
    "from sentence_transformers.util import cos_sim\n",
    "from typing import List\n",
    "from enum import Enum\n",
    "import pandas as pd\n",
    "from collections import namedtuple\n"
   ]
  },
  {
   "cell_type": "code",
   "execution_count": 3,
   "metadata": {},
   "outputs": [],
   "source": [
    "#| export\n",
    "class Format(Enum):\n",
    "  Python = 0\n",
    "  Torch = 1\n",
    "  Numpy = 2\n",
    "  Pandas = 3"
   ]
  },
  {
   "cell_type": "code",
   "execution_count": 4,
   "metadata": {},
   "outputs": [],
   "source": [
    "#| export\n",
    "class TextNode(namedtuple('TextNode', 'nodeId nodeText')):\n",
    "    \"\"\"A dataype containing an id and text. Meant to make it easier to use SentenceGraph graphs in downstream applications.\"\"\"\n",
    "    pass"
   ]
  },
  {
   "cell_type": "code",
   "execution_count": 11,
   "metadata": {},
   "outputs": [],
   "source": [
    "#| export\n",
    "class SentenceGraph:\n",
    "    def __init__(self, model_name: str = None, model: None = None):\n",
    "        if model_name == None or model_name == \"\" or model == None:\n",
    "            self.model = model = SentenceTransformer('all-MiniLM-L6-v2')\n",
    "        elif model is not None:\n",
    "            self.model = model\n",
    "        elif model_name is not None:\n",
    "          self.model = model = SentenceTransformer(model_name)\n",
    "\n",
    "    def createGraph(self, sentences: List[TextNode], format: Format = Format.Python) -> List[List[float]]:\n",
    "        # TODO: Wrap this all in a function to export a functional version of this as well.\n",
    "        sentence_embeddings = self.model.encode([node.nodeText for node in sentences])\n",
    "\n",
    "        graph_len = len(sentence_embeddings)\n",
    "        similarity_graph = [[0 for x in range(graph_len)] for y in range(graph_len)]\n",
    "\n",
    "        for i, embeddingA in enumerate(sentence_embeddings):\n",
    "          for j, embeddingB in enumerate(sentence_embeddings):\n",
    "            similarity = cos_sim(embeddingA, embeddingB)\n",
    "\n",
    "            # TODO when we get to python 3.10+ switch to pattern matching\n",
    "            if format == Format.Python or format == Format.Pandas:\n",
    "              similarity = similarity.tolist()[0][0]\n",
    "            elif format == Format.Torch:\n",
    "              similarity = similarity[0]\n",
    "            elif format == Format.Numpy:\n",
    "              similarity = similarity[0].numpy()\n",
    "\n",
    "            similarity_graph[i][j] = similarity\n",
    "        \n",
    "        if format == Format.Pandas:\n",
    "          index = [node.nodeId for node in sentences]\n",
    "          df = pd.DataFrame(similarity_graph, index = index,\n",
    "                                          columns = index)\n",
    "          return df\n",
    "        else:\n",
    "          return similarity_graph"
   ]
  },
  {
   "cell_type": "code",
   "execution_count": null,
   "metadata": {},
   "outputs": [],
   "source": [
    "#| hide\n",
    "import nbdev; nbdev.nbdev_export()"
   ]
  }
 ],
 "metadata": {
  "kernelspec": {
   "display_name": "venv",
   "language": "python",
   "name": "python3"
  },
  "language_info": {
   "codemirror_mode": {
    "name": "ipython",
    "version": 3
   },
   "file_extension": ".py",
   "mimetype": "text/x-python",
   "name": "python",
   "nbconvert_exporter": "python",
   "pygments_lexer": "ipython3",
   "version": "3.8.10"
  },
  "vscode": {
   "interpreter": {
    "hash": "745c367861b30f1c58cafb364187217d1090c2a4237d47b4ad449d5ad8917489"
   }
  }
 },
 "nbformat": 4,
 "nbformat_minor": 4
}
