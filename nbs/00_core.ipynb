{
 "cells": [
  {
   "cell_type": "markdown",
   "metadata": {},
   "source": [
    "# core\n",
    "\n",
    "> Fill in a module description here"
   ]
  },
  {
   "cell_type": "code",
   "execution_count": null,
   "metadata": {},
   "outputs": [],
   "source": [
    "#| default_exp core"
   ]
  },
  {
   "cell_type": "code",
   "execution_count": null,
   "metadata": {},
   "outputs": [],
   "source": [
    "#| hide\n",
    "from nbdev.showdoc import *\n",
    "from sentence_transformers import SentenceTransformer\n",
    "from sentence_transformers.util import cos_sim\n",
    "from typing import List"
   ]
  },
  {
   "cell_type": "code",
   "execution_count": null,
   "metadata": {},
   "outputs": [],
   "source": [
    "#| export\n",
    "class Format(Enum):\n",
    "  Python = 0\n",
    "  Torch = 1\n",
    "  Numpy = 2\n",
    "  Pandas = 3"
   ]
  },
  {
   "cell_type": "code",
   "execution_count": null,
   "metadata": {},
   "outputs": [],
   "source": [
    "#| export\n",
    "class SentenceGraph:\n",
    "    def __init__(self, model_name: str = None, sim_threshold: float = 0.5, model: None = None):\n",
    "        if model_name == None or model_name == \"\" or model == None:\n",
    "            self.model = model = SentenceTransformer('all-MiniLM-L6-v2')\n",
    "        elif model is not None:\n",
    "            self.model = model\n",
    "\n",
    "        if sim_threshold == None:\n",
    "          self.threshold = 0.5\n",
    "        else:\n",
    "          self.threshold = sim_threshold\n",
    "\n",
    "    def createGraph(self, sentences: List[str], format: Format = Format.Python) -> List[List[float]]:\n",
    "        sentence_embeddings = self.model.encode(sentences)\n",
    "\n",
    "        graph_len = len(sentence_embeddings)\n",
    "        similarity_graph = [[0 for x in range(graph_len)] for y in range(graph_len)]\n",
    "\n",
    "        for i, embeddingA in enumerate(sentence_embeddings):\n",
    "          for j, embeddingB in enumerate(sentence_embeddings):\n",
    "            similarity = cos_sim(embeddingA, embeddingB)\n",
    "\n",
    "            # TODO when we get to python 3.10+ switch to pattern matching\n",
    "            if format == Format.Python:\n",
    "              similarity = similarity.tolist()[0][0]\n",
    "            elif format == Format.Torch:\n",
    "              similarity = similarity[0]\n",
    "            elif format == Format.Pandas:\n",
    "              # TODO: Implement eventual conversion to a dataframe\n",
    "              similarity = similarity.tolist()[0][0]\n",
    "            elif format == Format.Numpy:\n",
    "              similarity = similarity[0].numpy()\n",
    "\n",
    "            similarity_graph[i][j] = similarity\n",
    "          \n",
    "        return similarity_graph"
   ]
  },
  {
   "cell_type": "code",
   "execution_count": null,
   "metadata": {},
   "outputs": [],
   "source": [
    "#| hide\n",
    "import nbdev; nbdev.nbdev_export()"
   ]
  }
 ],
 "metadata": {
  "kernelspec": {
   "display_name": "Python 3.8.10 64-bit",
   "language": "python",
   "name": "python3"
  },
  "language_info": {
   "name": "python",
   "version": "3.8.10"
  },
  "vscode": {
   "interpreter": {
    "hash": "7c71e72dce92570a6bf52d7577c99f792246afc32ce3fb8112199e27f2a1c958"
   }
  }
 },
 "nbformat": 4,
 "nbformat_minor": 4
}
