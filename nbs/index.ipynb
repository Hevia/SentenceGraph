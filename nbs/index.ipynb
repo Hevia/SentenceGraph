{
 "cells": [
  {
   "cell_type": "code",
   "execution_count": null,
   "metadata": {},
   "outputs": [],
   "source": [
    "#| hide\n",
    "from SentenceGraph.core import *"
   ]
  },
  {
   "cell_type": "markdown",
   "metadata": {},
   "source": [
    "# SentenceGraph\n",
    "\n",
    "Easily create semantic graphs from text using SentenceTransformers"
   ]
  },
  {
   "cell_type": "markdown",
   "metadata": {},
   "source": [
    "## Install"
   ]
  },
  {
   "cell_type": "markdown",
   "metadata": {},
   "source": [
    "```sh\n",
    "pip install SentenceGraph\n",
    "```"
   ]
  },
  {
   "cell_type": "markdown",
   "metadata": {},
   "source": [
    "## How to use"
   ]
  },
  {
   "cell_type": "code",
   "execution_count": null,
   "metadata": {},
   "outputs": [],
   "source": [
    "from SentenceGraph.core import SentenceGraph, Format, TextNode\n",
    "from SentenceGraph.functional import create_text_nodes"
   ]
  },
  {
   "cell_type": "code",
   "execution_count": null,
   "metadata": {},
   "outputs": [],
   "source": [
    "sentenceGraph = SentenceGraph()"
   ]
  },
  {
   "cell_type": "code",
   "execution_count": null,
   "metadata": {},
   "outputs": [],
   "source": [
    "# SentenceGraph requires all sentences to be passed as TextNode, which is just a namedtuple containing an id and text.\n",
    "# There are several ways to prepare your sentence data for SentenceGraph.\n",
    "\n",
    "# Use the builtin helper function which will just assign sequential ids for the data. Useful for experimentation.\n",
    "sentences = ['This framework generates embeddings for each input sentence',\n",
    "    'Sentences are passed as a list of string.', \n",
    "    'The quick brown fox jumps over the lazy dog.']\n",
    "\n",
    "sentences = create_text_nodes()\n",
    "\n",
    "# \n",
    "sentences = [TextNode(1, 'This framework generates embeddings for each input sentence'),\n",
    "    TextNode(2, 'Sentences are passed as a list of string.'), \n",
    "    TextNode(3,'The quick brown fox jumps over the lazy dog.')]"
   ]
  },
  {
   "cell_type": "code",
   "execution_count": null,
   "metadata": {},
   "outputs": [],
   "source": [
    "sim_graph = sentenceGraph.createGraph(sentences)\n",
    "sim_graph"
   ]
  },
  {
   "cell_type": "markdown",
   "metadata": {},
   "source": [
    "You can also return a graph matrix in different formats."
   ]
  },
  {
   "cell_type": "code",
   "execution_count": null,
   "metadata": {},
   "outputs": [],
   "source": [
    "sim_graph = sentenceGraph.createGraph(sentences, format=Format.Numpy)\n",
    "sim_graph"
   ]
  }
 ],
 "metadata": {
  "kernelspec": {
   "display_name": "Python 3",
   "language": "python",
   "name": "python3"
  },
  "language_info": {
   "name": "python",
   "version": "3.8.10 (tags/v3.8.10:3d8993a, May  3 2021, 11:48:03) [MSC v.1928 64 bit (AMD64)]"
  },
  "vscode": {
   "interpreter": {
    "hash": "7c71e72dce92570a6bf52d7577c99f792246afc32ce3fb8112199e27f2a1c958"
   }
  }
 },
 "nbformat": 4,
 "nbformat_minor": 4
}
